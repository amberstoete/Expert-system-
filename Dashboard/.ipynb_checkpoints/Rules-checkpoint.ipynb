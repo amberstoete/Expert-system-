{
 "cells": [
  {
   "cell_type": "code",
   "execution_count": 3,
   "metadata": {
    "scrolled": true
   },
   "outputs": [],
   "source": [
    "#All information about the boroughs is added to a dict. Thhe adjacent boroughs are added based on the coordinates. \n",
    "Centrum = {'name': 'Centrum', 'coordinates': '', 'budget': 2000000, 'parking zones': '', 'occupancy rate': 0.9, 'available parking sensors': \n",
    "           {'in-ground': 6, 'computer vision': 70}, 'transportation options': ['train', 'metro', 'tram', 'bus', 'ferry', 'bike']\n",
    "           , 'population density': 5042, 'job density': 2500, 'smartphone': 5, 'car sharing': 5, 'travel allowance': 4,\n",
    "           'bundled parking': 3, 'build': 2, 'regulations': 3, 'influence': 2, 'adjacent boroughs': ['Oost','West']}\n",
    "\n",
    "Oost = {'name': 'Oost', 'coordinates': '', 'budget': 2000000, 'parking zones': '', 'occupancy rate': 0.7, 'available parking sensors': \n",
    "           {'in-ground': 6, 'computer vision': 70}, 'transportation options': ['train', 'metro', 'tram', 'bus', 'bike']\n",
    "           , 'population density': 5042, 'job density': 2500, 'smartphone': 5, 'car sharing': 5, 'travel allowance': 4,\n",
    "           'bundled parking': 3, 'build': 2, 'regulations': 3, 'influence': 2, 'adjacent boroughs': ['Zuid','Centrum']}\n",
    "\n",
    "West = {'name': 'West', 'coordinates': '', 'budget': 2000000, 'parking zones': '', 'occupancy rate': 0.8, 'available parking sensors': \n",
    "           {'in-ground': 6, 'computer vision': 70}, 'transportation options': ['train', 'metro', 'tram', 'bus', 'bike']\n",
    "           , 'population density': 5042, 'job density': 2500, 'smartphone': 5, 'car sharing': 5, 'travel allowance': 4,\n",
    "           'bundled parking': 3, 'build': 2, 'regulations': 3, 'influence': 2, 'adjacent boroughs': ['Zuid','Centrum']}\n",
    "\n",
    "Zuid = {'name': 'Zuid', 'coordinates': '', 'budget': 2000000, 'parking zones': '', 'occupancy rate': 0.9, 'available parking sensors': \n",
    "           {'in-ground': 6, 'computer vision': 70}, 'transportation options': ['train', 'metro', 'tram', 'bus', 'bike']\n",
    "           , 'population density': 5042, 'job density': 2500, 'smartphone': 5, 'car sharing': 5, 'travel allowance': 4,\n",
    "           'bundled parking': 3, 'build': 2, 'regulations': 3, 'influence': 2, 'adjacent boroughs': ['Oost, Centrum']}\n",
    "\n",
    "Noord = {'name': 'Noord', 'coordinates': '', 'budget': 2000000, 'parking zones': '', 'occupancy rate': 0.4, 'available parking sensors': \n",
    "           {'in-ground': 6, 'computer vision': 70}, 'transportation options': ['train', 'metro', 'tram', 'bus', 'ferry', 'bike']\n",
    "           , 'population density': 5042, 'job density': 2500, 'smartphone': 5, 'car sharing': 5, 'travel allowance': 4,\n",
    "           'bundled parking': 3, 'build': 2, 'regulations': 3, 'influence': 2, 'adjacent boroughs': []}\n",
    "\n",
    "Boroughs = [Centrum, Oost, West, Zuid, Noord]"
   ]
  },
  {
   "cell_type": "code",
   "execution_count": 4,
   "metadata": {},
   "outputs": [],
   "source": [
    "result = []"
   ]
  },
  {
   "cell_type": "code",
   "execution_count": 5,
   "metadata": {},
   "outputs": [],
   "source": [
    "options = ['train', 'metro', 'tram', 'bus', 'ferry', 'bike']"
   ]
  },
  {
   "cell_type": "code",
   "execution_count": 14,
   "metadata": {
    "scrolled": false
   },
   "outputs": [],
   "source": [
    "for borough in Boroughs:\n",
    "    if borough['occupancy rate'] > 0.2:    \n",
    "        if borough['build'] == 1:\n",
    "            if len(borough['transportation options'])/len(options) > 0.5:\n",
    "                if borough['influence'] == 1 and borough['regulations'] == 0: \n",
    "                    result.append(borough['name'] + ': '+ 'Influence people to use public transport.')\n",
    "                if borough['influence'] == 0 and borough['regulations'] == 1:\n",
    "                    result.append(borough['name'] + ': '+ 'Increase parking tariffs in peak hours.')\n",
    "\n",
    "        if borough['build'] == 2:\n",
    "            if borough['influence'] == 2 and borough['regulations'] == 2:\n",
    "                for x in borough['adjacent boroughs']:\n",
    "                    if globals()[x]['availability'] > 0.3:\n",
    "                        result.append(borough['name'] + 'Guide people to ' + x)\n",
    "                    elif globals()[x]['availability'] < 0.3:\n",
    "                        result.append(borough['name'] + ': '+ 'Influence people to use public transport and increase parking tariffs in peak hours.')\n",
    "            elif borough['regulations'] == 2:\n",
    "                presult.append(borough['name'] + ': ' + 'Increase parking tariffs in peak hours.')\n",
    "            elif borough['influence'] == 2:\n",
    "                result.append(borough['name'] + ': ' + 'Influence people to use public transport.')\n",
    "            elif borough['regulations'] == 1 and borough['influence'] == 1:\n",
    "                result.append(borough['name'] + ': '+ 'Influence people to use public transport and increase parking tariffs in peak hours.')\n",
    "\n",
    "        if borough['build'] == 3:\n",
    "            if borough['influence'] == 2 and borough['regulations'] == 2:\n",
    "                result.append(borough['name'] + ': ' + 'Influence people to use public transport and increase parking tariffs in peak hours.')\n",
    "            elif borough['regulations'] == 2:\n",
    "                result.append(borough['name'] + ': ' + 'Increase parking tariffs in peak hours.')\n",
    "            elif borough['influence'] == 2:\n",
    "                result.append(borough['name'] + ': ' + 'Influence people to use public transport.')\n",
    "            elif borough['regulations'] == 1 and borough['influence'] == 1:\n",
    "                result.append(borough['name'] + ': ' + 'Influence people to use public transport and increase parking tariffs in peak hours.')\n",
    "            else:\n",
    "                result.append(borough['name'] + ': ' + 'Build ... more parking spots')\n",
    "                \n",
    "        if borough['travel allowance'] < 3:\n",
    "            if borough['influence'] > 2:\n",
    "                if len(borough['transportation options']) > 3:\n",
    "                    result.append(borough['name'] + ': ' + 'Try to make a deal with companies to provide a travel allowance only to people that commute using public transport. This will cause a decrease the amount of cars in the city and therefore reduce the parking problems.')\n",
    "      \n",
    "        if borough['bundled parking'] < 3:\n",
    "            if borough['regulations'] > 2:\n",
    "                result.append(borough['name' + ': ' + '' 'Seperate parking spots from housing so all parking spots need to be bought or rented. This will decrease the amount of cars per househould due to the additional expensens. This will lower the amount of cars in the city and therefore reduce the parking problems.'])   \n",
    "    \n",
    "            \n",
    "            "
   ]
  },
  {
   "cell_type": "code",
   "execution_count": null,
   "metadata": {},
   "outputs": [],
   "source": []
  },
  {
   "cell_type": "code",
   "execution_count": 7,
   "metadata": {},
   "outputs": [
    {
     "data": {
      "text/plain": [
       "['Centrum: Influence people to use public transport.',\n",
       " 'Oost: Influence people to use public transport.',\n",
       " 'West: Influence people to use public transport.',\n",
       " 'Zuid: Influence people to use public transport.',\n",
       " 'Noord: Influence people to use public transport.']"
      ]
     },
     "execution_count": 7,
     "metadata": {},
     "output_type": "execute_result"
    }
   ],
   "source": [
    "result"
   ]
  },
  {
   "cell_type": "code",
   "execution_count": 133,
   "metadata": {},
   "outputs": [
    {
     "data": {
      "text/plain": [
       "['Centrum: Influence people to use public transport.', 'Centrum: bla']"
      ]
     },
     "execution_count": 133,
     "metadata": {},
     "output_type": "execute_result"
    }
   ],
   "source": [
    "a = []\n",
    "for x in test:\n",
    "    if 'Centrum' in x:\n",
    "        a.append(x)\n",
    "a"
   ]
  },
  {
   "cell_type": "code",
   "execution_count": 12,
   "metadata": {},
   "outputs": [
    {
     "name": "stderr",
     "output_type": "stream",
     "text": [
      "[NbConvertApp] Converting notebook Rules.ipynb to script\n",
      "[NbConvertApp] Writing 5986 bytes to Rules.py\n"
     ]
    }
   ],
   "source": [
    "!jupyter nbconvert --to script Rules.ipynb"
   ]
  }
 ],
 "metadata": {
  "kernelspec": {
   "display_name": "Python 3",
   "language": "python",
   "name": "python3"
  },
  "language_info": {
   "codemirror_mode": {
    "name": "ipython",
    "version": 3
   },
   "file_extension": ".py",
   "mimetype": "text/x-python",
   "name": "python",
   "nbconvert_exporter": "python",
   "pygments_lexer": "ipython3",
   "version": "3.6.4"
  }
 },
 "nbformat": 4,
 "nbformat_minor": 2
}
